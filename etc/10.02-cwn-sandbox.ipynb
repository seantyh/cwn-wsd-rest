{
 "metadata": {
  "language_info": {
   "codemirror_mode": {
    "name": "ipython",
    "version": 3
   },
   "file_extension": ".py",
   "mimetype": "text/x-python",
   "name": "python",
   "nbconvert_exporter": "python",
   "pygments_lexer": "ipython3",
   "version": "3.7.9-final"
  },
  "orig_nbformat": 2,
  "kernelspec": {
   "name": "python_defaultSpec_1599453005544",
   "display_name": "Python 3.7.9 64-bit ('ckiptagger': conda)"
  }
 },
 "nbformat": 4,
 "nbformat_minor": 2,
 "cells": [
  {
   "cell_type": "code",
   "execution_count": 5,
   "metadata": {},
   "outputs": [],
   "source": [
    "from CwnGraph import CwnBase, CwnSense"
   ]
  },
  {
   "cell_type": "code",
   "execution_count": 6,
   "metadata": {},
   "outputs": [],
   "source": [
    "cwn = CwnBase()"
   ]
  },
  {
   "cell_type": "code",
   "execution_count": 13,
   "metadata": {},
   "outputs": [
    {
     "output_type": "execute_result",
     "data": {
      "text/plain": "[('synonym', <CwnSense[08022401](卡): 表與其他同類對象做對照比較時，程度上高一點。>, 'forward'),\n ('synonym', <CwnSense[06751501](更): 改變特定內容。>, 'forward'),\n ('synonym', <CwnSense[09250601](更): 古代的時間單位，一更約等於兩小時。>, 'forward'),\n ('synonym', <CwnSense[09250701](更): 姓。>, 'forward'),\n ('synonym', <CwnSense[09250801](更): 表事件程度或數量發生後述變化。>, 'forward'),\n ('synonym', <CwnSense[04018402](較): 表與其他同類對象做對照比較時，程度上高一點。>, 'forward'),\n ('synonym', <CwnSense[04018402](較): 表與其他同類對象做對照比較時，程度上高一點。>, 'reversed'),\n ('synonym', <CwnSense[08022401](卡): 表與其他同類對象做對照比較時，程度上高一點。>, 'reversed')]"
     },
     "metadata": {},
     "execution_count": 13
    }
   ],
   "source": [
    "CwnSense(\"04148502\", cwn).semantic_relations"
   ]
  },
  {
   "cell_type": "code",
   "execution_count": 3,
   "metadata": {},
   "outputs": [
    {
     "output_type": "execute_result",
     "data": {
      "text/plain": "{'version': '0.2',\n 'description': 'add WN30 map to pwn_synset node (build 001)'}"
     },
     "metadata": {},
     "execution_count": 3
    }
   ],
   "source": [
    "cwn.meta"
   ]
  },
  {
   "cell_type": "code",
   "execution_count": null,
   "metadata": {},
   "outputs": [],
   "source": []
  },
  {
   "cell_type": "code",
   "execution_count": 4,
   "metadata": {},
   "outputs": [],
   "source": [
    "tagged = [[['今天', 'Nd', '07024601', '說話者所在的時間參考點的那一天。'],\n",
    "  ['天氣', 'Na', '06739201', '在特定區域和時間內，多種氣象要素綜合顯示的大氣狀況。'],\n",
    "  ['真', 'D', '05100414', '表說話者主觀評價程度高，帶有誇張語氣或情感。'],\n",
    "  ['好', 'VH', '04157701', '形容對特定對象的評價是正面的。']]]"
   ]
  },
  {
   "cell_type": "code",
   "execution_count": 10,
   "metadata": {},
   "outputs": [],
   "source": [
    "senses = [CwnSense(x[2], cwn) for x in tagged[0]]"
   ]
  },
  {
   "cell_type": "code",
   "execution_count": 11,
   "metadata": {},
   "outputs": [],
   "source": [
    "pwns = [s.pwn_synsets for s in senses]"
   ]
  },
  {
   "cell_type": "code",
   "execution_count": 12,
   "metadata": {},
   "outputs": [
    {
     "output_type": "execute_result",
     "data": {
      "text/plain": "[('nearsynonym', <CwnSense[07024801](昨天): 說話者所在的時間參考點的前一天。>, 'forward'),\n ('nearsynonym', <CwnSense[07024601](今天): 說話者所在的時間參考點的那一天。>, 'forward'),\n ('synonym', <CwnSense[07026602](今): 說話者所在的時間參考點的那一天。>, 'forward'),\n ('hypernym', <CwnSense[06560103](時間): 時間的一個段落。>, 'forward')]"
     },
     "metadata": {},
     "execution_count": 12
    }
   ],
   "source": [
    "[x for x in senses[0].semantic_relations if x[2] == \"forward\"]"
   ]
  },
  {
   "cell_type": "code",
   "execution_count": 13,
   "metadata": {},
   "outputs": [
    {
     "output_type": "execute_result",
     "data": {
      "text/plain": "[('generic', <PwnSynset[pwn_01076114A]: good.a.01>)]"
     },
     "metadata": {},
     "execution_count": 13
    }
   ],
   "source": [
    "senses[3].pwn_synsets"
   ]
  },
  {
   "cell_type": "code",
   "execution_count": 14,
   "metadata": {},
   "outputs": [
    {
     "output_type": "execute_result",
     "data": {
      "text/plain": "[[], [], [], [('generic', <PwnSynset[pwn_01076114A]: good.a.01>)]]"
     },
     "metadata": {},
     "execution_count": 14
    }
   ],
   "source": [
    "pwns"
   ]
  },
  {
   "cell_type": "code",
   "execution_count": 15,
   "metadata": {
    "tags": []
   },
   "outputs": [],
   "source": [
    "import cedict\n",
    "infile = open('../src/rest/cedict/cedict.txt')\n",
    "cemap = {}\n",
    "for ch, chs, pinyin, defs, variants, mw in cedict.iter_cedict(infile):        \n",
    "    cemap.setdefault(ch, []).extend(defs)\n",
    "    "
   ]
  },
  {
   "cell_type": "code",
   "execution_count": 16,
   "metadata": {},
   "outputs": [
    {
     "output_type": "execute_result",
     "data": {
      "text/plain": "['today', 'at the present', 'now']"
     },
     "metadata": {},
     "execution_count": 16
    }
   ],
   "source": [
    "cemap[\"今天\"]"
   ]
  },
  {
   "cell_type": "code",
   "execution_count": 17,
   "metadata": {
    "tags": []
   },
   "outputs": [],
   "source": [
    "import nltk\n",
    "from nltk.corpus import wordnet as wn"
   ]
  },
  {
   "cell_type": "code",
   "execution_count": 18,
   "metadata": {},
   "outputs": [],
   "source": [
    "from typing import List\n",
    "import re\n",
    "def find_synset(candids: List[str], pos=None): \n",
    "    pre_pat = re.compile(\"^to \")\n",
    "    wn_syns = []\n",
    "    for candid_x in candids:\n",
    "        probe = pre_pat.sub(\"\", candid_x)\n",
    "        wn_syns = wn.synsets(probe, pos=pos)\n",
    "        if wn_syns:\n",
    "            break    \n",
    "    return wn_syns[0] if len(wn_syns) > 0 else []\n",
    "    "
   ]
  },
  {
   "cell_type": "code",
   "execution_count": 32,
   "metadata": {},
   "outputs": [
    {
     "output_type": "execute_result",
     "data": {
      "text/plain": "<CwnSense[dasfdf](----): >"
     },
     "metadata": {},
     "execution_count": 32
    }
   ],
   "source": [
    "\"\""
   ]
  },
  {
   "cell_type": "code",
   "execution_count": 19,
   "metadata": {},
   "outputs": [],
   "source": [
    "syn = find_synset(cemap[\"開\"], pos='v')"
   ]
  },
  {
   "cell_type": "code",
   "execution_count": 49,
   "metadata": {},
   "outputs": [
    {
     "output_type": "execute_result",
     "data": {
      "text/plain": "[]"
     },
     "metadata": {},
     "execution_count": 49
    }
   ],
   "source": [
    "wn.synset(\"tree.n.01\").examples()"
   ]
  },
  {
   "cell_type": "code",
   "execution_count": 20,
   "metadata": {},
   "outputs": [
    {
     "output_type": "execute_result",
     "data": {
      "text/plain": "[8, 11]"
     },
     "metadata": {},
     "execution_count": 20
    }
   ],
   "source": [
    "syn.frame_ids()"
   ]
  },
  {
   "cell_type": "code",
   "execution_count": 76,
   "metadata": {},
   "outputs": [],
   "source": [
    "from nltk.corpus import framenet as fn"
   ]
  },
  {
   "cell_type": "code",
   "execution_count": 90,
   "metadata": {
    "tags": []
   },
   "outputs": [
    {
     "output_type": "execute_result",
     "data": {
      "text/plain": "frame (1872): Openness\n\n[URL] https://framenet2.icsi.berkeley.edu/fnReports/data/frame/Openness.xml\n\n[definition]\n  A Useful_location is accessible to some (possibly generic) Theme\n  despite a potential Barrier, or is not accessible because of the\n  Barrier.  'I left the door to the lobby open for you.' 'I left\n  the door to the lobby open for you.'\n\n[semTypes] 0 semantic types\n\n[frameRelations] 3 frame relations\n  <Parent=Traversing -- Using -> Child=Openness>\n  <Causative=Change_accessibility -- Causative_of -> Inchoative/state=Openness>\n  <Neutral=Access_scenario -- Perspective_on -> Perspectivized=Openness>\n\n[lexUnit] 3 lexical units\n  closed.a (13723), dark.a (16957), open.a (13722)\n\n\n[FE] 5 frame elements\n            Core: Barrier (11031), Theme (11029), Useful_location (11030)\n      Peripheral: Degree (11032), Time (15344)\n\n[FEcoreSets] 0 frame element core sets\n  "
     },
     "metadata": {},
     "execution_count": 90
    }
   ],
   "source": [
    "fn.lus(\"open\")[3].frame"
   ]
  },
  {
   "cell_type": "code",
   "execution_count": 1,
   "metadata": {},
   "outputs": [],
   "source": [
    "from time import time"
   ]
  },
  {
   "cell_type": "code",
   "execution_count": 2,
   "metadata": {},
   "outputs": [],
   "source": [
    "a = time()"
   ]
  },
  {
   "cell_type": "code",
   "execution_count": 3,
   "metadata": {},
   "outputs": [],
   "source": [
    "b = time() - a"
   ]
  },
  {
   "cell_type": "code",
   "execution_count": 4,
   "metadata": {},
   "outputs": [
    {
     "output_type": "execute_result",
     "data": {
      "text/plain": "4.768859624862671"
     },
     "metadata": {},
     "execution_count": 4
    }
   ],
   "source": [
    "b"
   ]
  },
  {
   "cell_type": "code",
   "execution_count": null,
   "metadata": {},
   "outputs": [],
   "source": []
  }
 ]
}